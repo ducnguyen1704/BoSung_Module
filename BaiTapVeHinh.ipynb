{
 "cells": [
  {
   "cell_type": "markdown",
   "metadata": {},
   "source": [
    "# Bài tập vẽ hình"
   ]
  },
  {
   "cell_type": "code",
   "execution_count": 1,
   "metadata": {},
   "outputs": [],
   "source": [
    "import math\n",
    "import random\n",
    "import turtle\n",
    "t = turtle.Turtle()\n",
    "t.pensize(5)\n",
    "t.speed(1000)"
   ]
  },
  {
   "cell_type": "code",
   "execution_count": 2,
   "metadata": {},
   "outputs": [],
   "source": [
    "#option 1:\n",
    "def draw_square(w,number):\n",
    "    for i in range(number):\n",
    "        t.pensize(5)\n",
    "        t.pencolor(color[i%7])\n",
    "        t.speed(100)\n",
    "        for i in range(4):\n",
    "            t.forward(w)\n",
    "            t.left(90)\n",
    "        t.right(360/number)"
   ]
  },
  {
   "cell_type": "code",
   "execution_count": 3,
   "metadata": {},
   "outputs": [],
   "source": [
    "#option 2:\n",
    "def draw_circle(r,number):\n",
    "    for i in range(number):\n",
    "        t.pensize(5)\n",
    "        t.speed(100)\n",
    "        t.pencolor(color[i%7])\n",
    "        t.circle(w) \n",
    "        t.right(360/number)"
   ]
  },
  {
   "cell_type": "code",
   "execution_count": 4,
   "metadata": {},
   "outputs": [],
   "source": [
    "#option 3:\n",
    "def draw_rectangle(w,h,number):\n",
    "    for i in range(number):\n",
    "        t.pensize(5)\n",
    "        t.pencolor(color[i%7])\n",
    "        t.speed(100)\n",
    "        for j in range(2):\n",
    "            t.forward(w)\n",
    "            t.left(90)\n",
    "            t.forward(h)\n",
    "            t.left(90)  \n",
    "        t.right(360/number)"
   ]
  },
  {
   "cell_type": "code",
   "execution_count": 5,
   "metadata": {},
   "outputs": [],
   "source": [
    "#option 4:\n",
    "def draw_elipse(radius, number):\n",
    "    for i in range(number):\n",
    "        t.pendown()\n",
    "        t.pensize(5)\n",
    "        t.speed(100)\n",
    "        t.pencolor(color[i%7])\n",
    "        for i in range(2):\n",
    "            t.circle(radius, 90)\n",
    "            t.circle(radius / 2, 90)\n",
    "        t.penup()\n",
    "        t.right(360/number)"
   ]
  },
  {
   "cell_type": "code",
   "execution_count": 6,
   "metadata": {},
   "outputs": [],
   "source": [
    "#option 5:\n",
    "def draw_pentagon(d,number):\n",
    "    for i in range(number):\n",
    "        t.pendown()\n",
    "        t.pensize(5)\n",
    "        t.speed(100)\n",
    "        t.pencolor(color[i%7])\n",
    "        for j in range(5):\n",
    "            t.forward(d)\n",
    "            t.left(72)\n",
    "        t.penup()\n",
    "        t.right(360/number)"
   ]
  },
  {
   "cell_type": "code",
   "execution_count": 7,
   "metadata": {},
   "outputs": [],
   "source": [
    "#option6:\n",
    "# tam giác cân\n",
    "def draw_equilateral_triangle(d,number): \n",
    "    for i in range(number):\n",
    "        t.pendown()\n",
    "        t.speed(100)\n",
    "        t.pensize(5)\n",
    "        t.pencolor(color[i%7])\n",
    "        for i in range(3):\n",
    "            t.forward(d)\n",
    "            t.left(120)\n",
    "        t.penup()\n",
    "        t.right(360/number)"
   ]
  },
  {
   "cell_type": "code",
   "execution_count": 8,
   "metadata": {},
   "outputs": [],
   "source": [
    "#option 7:\n",
    "def draw_heart(number):\n",
    "    for i in range(number):\n",
    "        t.pencolor(color[i%7])\n",
    "        t.speed(1000)\n",
    "        t.pensize(5)\n",
    "        t.left(140)\n",
    "        t.forward(113)\n",
    "        def curve():\n",
    "            for i in range(200):\n",
    "                t.speed(2000)\n",
    "                t.rt(1)\n",
    "                t.fd(1)\n",
    "        curve()\n",
    "        t.left(120)\n",
    "        curve()\n",
    "        t.fd(112)\n",
    "        t.right(360/number)"
   ]
  },
  {
   "cell_type": "code",
   "execution_count": 9,
   "metadata": {},
   "outputs": [],
   "source": [
    "#option 8:\n",
    "def reset():\n",
    "    t.reset()"
   ]
  },
  {
   "cell_type": "code",
   "execution_count": 10,
   "metadata": {},
   "outputs": [],
   "source": [
    "def select_option():\n",
    "    print(\"Mời bạn lựa chọn hình vẽ: \")\n",
    "    print(\"\"\"\n",
    "    1. Square\n",
    "    2. Circle\n",
    "    3. Rectangle\n",
    "    4. Elipse\n",
    "    5. Pentagon\n",
    "    6. Equilateral Triangle\n",
    "    7. Heart   \n",
    "    8. Reset \\n\"\"\")\n",
    "    while True:\n",
    "        try:\n",
    "            option = (int(input(\"Lựa chọn của bạn là : \")))\n",
    "            if 1 <= option <= 8:\n",
    "                return option\n",
    "                break\n",
    "            else:\n",
    "                print(\"Bạn chỉ có 8 lựa trọn \\n\")\n",
    "        except ValueError:\n",
    "            print(\"Dữ liệu không hợp lệ. \\n\")"
   ]
  },
  {
   "cell_type": "code",
   "execution_count": null,
   "metadata": {
    "scrolled": false
   },
   "outputs": [
    {
     "name": "stdout",
     "output_type": "stream",
     "text": [
      "Mời bạn lựa chọn hình vẽ: \n",
      "\n",
      "    1. Square\n",
      "    2. Circle\n",
      "    3. Rectangle\n",
      "    4. Elipse\n",
      "    5. Pentagon\n",
      "    6. Equilateral Triangle\n",
      "    7. Heart   \n",
      "    8. Reset \n",
      "\n",
      "Lựa chọn của bạn là : 7\n",
      "Nhập số lượng hình muốn lặp: 10\n",
      "Bạn lựa chọn hình Trái tim\n",
      "Số lần lặp:  10\n"
     ]
    }
   ],
   "source": [
    "option = select_option()\n",
    "if option == 8:\n",
    "    print(\"Reset hình đã vẽ \")\n",
    "    reset()\n",
    "else:\n",
    "    number = int(input(\"Nhập số lượng hình muốn lặp: \"))\n",
    "    color = [\"red\",\"pink\",\"yellow\",\"orange\",\"blue\",\"brown\",\"violet\"]\n",
    "    if number > 0:\n",
    "        if option == 1: \n",
    "            print(\"Bạn lựa chọn vẽ hình vuông\")\n",
    "            print(\"Số lần lặp: \",number)\n",
    "            w = int(input(\"Nhập vào 1 cạnh hình vuông: \"))\n",
    "            draw_square(w, number)\n",
    "        elif option == 2:\n",
    "            print(\"Bạn lựa chọn hình tròn\")\n",
    "            print(\"Số lần lặp: \",number)\n",
    "            r = int(input(\"Nhập vào bán kính: \"))\n",
    "            draw_circle(r,number)\n",
    "        elif option == 3:\n",
    "            print(\"Bạn lựa chọn hình chữ nhật\")\n",
    "            print(\"Số lần lặp: \",number)\n",
    "            w, h = map(int, input(\"Nhập vào chiều dài (w) và chiều rộng (h) : \").split(\" \"))\n",
    "            draw_rectangle(w,h,number)\n",
    "        elif option == 4:\n",
    "            print(\"Bạn lựa chọn hình elipse\")\n",
    "            print(\"Số lần lặp: \",number)\n",
    "            radius = int(input(\"Nhập vào kích thước: \"))\n",
    "            draw_elipse(radius, number)\n",
    "        elif option == 5:\n",
    "            print(\"Bạn lựa chọn hình Ngũ giác\")\n",
    "            print(\"Số lần lặp: \",number)\n",
    "            d = int(input(\"Nhập vào giá trị 1 cạnh: \"))\n",
    "            draw_pentagon(d,number)\n",
    "        elif option == 6:\n",
    "            print(\"Bạn lựa chọn hình Tam giác cân\")\n",
    "            print(\"Số lần lặp: \",number)\n",
    "            d = int(input(\"Nhập vào giá trị 1 cạnh: \"))\n",
    "            draw_equilateral_triangle(d,number)\n",
    "        else:\n",
    "            print(\"Bạn lựa chọn hình Trái tim\")\n",
    "            print(\"Số lần lặp: \",number)\n",
    "            draw_heart(number)\n",
    "    else:\n",
    "        print(\"Số lần lặp sai!!!\")"
   ]
  },
  {
   "cell_type": "code",
   "execution_count": null,
   "metadata": {},
   "outputs": [],
   "source": []
  },
  {
   "cell_type": "code",
   "execution_count": null,
   "metadata": {},
   "outputs": [],
   "source": []
  }
 ],
 "metadata": {
  "kernelspec": {
   "display_name": "Python 3",
   "language": "python",
   "name": "python3"
  },
  "language_info": {
   "codemirror_mode": {
    "name": "ipython",
    "version": 3
   },
   "file_extension": ".py",
   "mimetype": "text/x-python",
   "name": "python",
   "nbconvert_exporter": "python",
   "pygments_lexer": "ipython3",
   "version": "3.7.6"
  }
 },
 "nbformat": 4,
 "nbformat_minor": 4
}
