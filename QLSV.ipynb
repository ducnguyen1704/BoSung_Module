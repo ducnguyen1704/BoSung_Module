{
 "cells": [
  {
   "cell_type": "markdown",
   "metadata": {},
   "source": [
    "# Quản lý sinh viên"
   ]
  },
  {
   "cell_type": "code",
   "execution_count": 1,
   "metadata": {},
   "outputs": [],
   "source": [
    "import pandas as pd\n",
    "import numpy as np"
   ]
  },
  {
   "cell_type": "markdown",
   "metadata": {},
   "source": [
    "# Fake dữ liệu\n"
   ]
  },
  {
   "cell_type": "code",
   "execution_count": 2,
   "metadata": {},
   "outputs": [],
   "source": [
    "df_data = pd.DataFrame([\n",
    "        [1801,'Nguyen Van Minh','Nam','Bac Lieu',50,85],\n",
    "        [1802,'Nguyen Van Binh','Nam','Ca Mau',78,95],\n",
    "        [1803,'Nguyen Van Cong','Nam','Long An',80,100],\n",
    "        [1804,'Nguyen Thi Van','Nam','Bac Lieu',94,67],\n",
    "        [1805,'Truong Minh Vien','Nam','Soc Trang',95,85],\n",
    "        [1806,'Tran Thi Nhu Hoa','Nu','Ca Mau',100,84],\n",
    "        [1807,'Ngo Thi Minh An','Nu','Bac Lieu',67,100],\n",
    "       ],columns=list(\"ABCDEF\"))"
   ]
  },
  {
   "cell_type": "markdown",
   "metadata": {},
   "source": [
    "# Tính trung bình"
   ]
  },
  {
   "cell_type": "code",
   "execution_count": 4,
   "metadata": {},
   "outputs": [],
   "source": [
    "# df_data['TrungBinh'] = (df_data['E'] + df_data['F'])/2\n",
    "# df_data"
   ]
  },
  {
   "cell_type": "markdown",
   "metadata": {},
   "source": [
    "# Lưu file"
   ]
  },
  {
   "cell_type": "code",
   "execution_count": 5,
   "metadata": {},
   "outputs": [],
   "source": [
    "# # Lưu file csv\n",
    "# df_data.to_csv('Danhsachsinhvien.csv')\n",
    "# data = pd.read_csv('Danhsachsinhvien.csv',encoding='utf-8', header=None, sep=',')\n",
    "# data"
   ]
  },
  {
   "cell_type": "code",
   "execution_count": 17,
   "metadata": {},
   "outputs": [],
   "source": [
    "#Option 1: Thêm thông tin học viên\n",
    "def add(MS,HoTen,GioiTinh,Tinh,LT,TH):\n",
    "    i = len(df_data)-1\n",
    "    i+=1\n",
    "    data = df_data.append(pd.DataFrame([[MS, HoTen,GioiTinh,Tinh,LT,TH]],columns = list('ABCDEF'),index = [i]))\n",
    "    print(\"Danh sách học viên sau khi thêm\")\n",
    "    print(data)\n",
    "    print(\"---------------------------------------------------------------------\")"
   ]
  },
  {
   "cell_type": "code",
   "execution_count": 7,
   "metadata": {},
   "outputs": [],
   "source": [
    "# add(1909,\"Nguyen\",\"Nam\",\"BL\",90,99)"
   ]
  },
  {
   "cell_type": "code",
   "execution_count": 8,
   "metadata": {},
   "outputs": [
    {
     "data": {
      "text/html": [
       "<div>\n",
       "<style scoped>\n",
       "    .dataframe tbody tr th:only-of-type {\n",
       "        vertical-align: middle;\n",
       "    }\n",
       "\n",
       "    .dataframe tbody tr th {\n",
       "        vertical-align: top;\n",
       "    }\n",
       "\n",
       "    .dataframe thead th {\n",
       "        text-align: right;\n",
       "    }\n",
       "</style>\n",
       "<table border=\"1\" class=\"dataframe\">\n",
       "  <thead>\n",
       "    <tr style=\"text-align: right;\">\n",
       "      <th></th>\n",
       "      <th>A</th>\n",
       "      <th>B</th>\n",
       "      <th>C</th>\n",
       "      <th>D</th>\n",
       "      <th>E</th>\n",
       "      <th>F</th>\n",
       "    </tr>\n",
       "  </thead>\n",
       "  <tbody>\n",
       "    <tr>\n",
       "      <th>0</th>\n",
       "      <td>1801</td>\n",
       "      <td>Nguyen Van Minh</td>\n",
       "      <td>Nam</td>\n",
       "      <td>Bac Lieu</td>\n",
       "      <td>50</td>\n",
       "      <td>85</td>\n",
       "    </tr>\n",
       "    <tr>\n",
       "      <th>1</th>\n",
       "      <td>1802</td>\n",
       "      <td>Nguyen Van Binh</td>\n",
       "      <td>Nam</td>\n",
       "      <td>Ca Mau</td>\n",
       "      <td>78</td>\n",
       "      <td>95</td>\n",
       "    </tr>\n",
       "    <tr>\n",
       "      <th>2</th>\n",
       "      <td>1803</td>\n",
       "      <td>Nguyen Van Cong</td>\n",
       "      <td>Nam</td>\n",
       "      <td>Long An</td>\n",
       "      <td>80</td>\n",
       "      <td>100</td>\n",
       "    </tr>\n",
       "    <tr>\n",
       "      <th>3</th>\n",
       "      <td>1804</td>\n",
       "      <td>Nguyen Thi Van</td>\n",
       "      <td>Nam</td>\n",
       "      <td>Bac Lieu</td>\n",
       "      <td>94</td>\n",
       "      <td>67</td>\n",
       "    </tr>\n",
       "    <tr>\n",
       "      <th>4</th>\n",
       "      <td>1805</td>\n",
       "      <td>Truong Minh Vien</td>\n",
       "      <td>Nam</td>\n",
       "      <td>Soc Trang</td>\n",
       "      <td>95</td>\n",
       "      <td>85</td>\n",
       "    </tr>\n",
       "    <tr>\n",
       "      <th>5</th>\n",
       "      <td>1806</td>\n",
       "      <td>Tran Thi Nhu Hoa</td>\n",
       "      <td>Nu</td>\n",
       "      <td>Ca Mau</td>\n",
       "      <td>100</td>\n",
       "      <td>84</td>\n",
       "    </tr>\n",
       "    <tr>\n",
       "      <th>6</th>\n",
       "      <td>1807</td>\n",
       "      <td>Ngo Thi Minh An</td>\n",
       "      <td>Nu</td>\n",
       "      <td>Bac Lieu</td>\n",
       "      <td>67</td>\n",
       "      <td>100</td>\n",
       "    </tr>\n",
       "  </tbody>\n",
       "</table>\n",
       "</div>"
      ],
      "text/plain": [
       "      A                 B    C          D    E    F\n",
       "0  1801   Nguyen Van Minh  Nam   Bac Lieu   50   85\n",
       "1  1802   Nguyen Van Binh  Nam     Ca Mau   78   95\n",
       "2  1803   Nguyen Van Cong  Nam    Long An   80  100\n",
       "3  1804    Nguyen Thi Van  Nam   Bac Lieu   94   67\n",
       "4  1805  Truong Minh Vien  Nam  Soc Trang   95   85\n",
       "5  1806  Tran Thi Nhu Hoa   Nu     Ca Mau  100   84\n",
       "6  1807   Ngo Thi Minh An   Nu   Bac Lieu   67  100"
      ]
     },
     "execution_count": 8,
     "metadata": {},
     "output_type": "execute_result"
    }
   ],
   "source": [
    "df_data"
   ]
  },
  {
   "cell_type": "code",
   "execution_count": 9,
   "metadata": {},
   "outputs": [],
   "source": [
    "# Option 2: Cập nhập thông tin học viên.\n",
    "def update(x,y,chars):\n",
    "    df_data.iloc[x,y] = chars"
   ]
  },
  {
   "cell_type": "code",
   "execution_count": 10,
   "metadata": {},
   "outputs": [],
   "source": [
    "# Option 3: Hiển thị danh sách tất cả học viên\n",
    "def show():\n",
    "    print(\"Danh sách tất cả học viên\")\n",
    "    print(df_data)\n",
    "    print(\"----------------------------------------------\")"
   ]
  },
  {
   "cell_type": "code",
   "execution_count": 11,
   "metadata": {},
   "outputs": [],
   "source": [
    "#Option 4: sinh viên thi đỗ\n",
    "def good():\n",
    "    print(\"Danh sách sinh viên thi đỗ (Điểm trung bình >= 75)\")\n",
    "    print(df_data[df_data['TrungBinh'] >= 75])\n",
    "    print(\"----------------------------------------------\")"
   ]
  },
  {
   "cell_type": "code",
   "execution_count": 12,
   "metadata": {},
   "outputs": [],
   "source": [
    "#Option 5: Sinh viên thi rớt\n",
    "def faild():\n",
    "    print(\"Danh sách sinh viên thi trượt(Điểm trung bình < 75)\")\n",
    "    print(df_data[df_data['TrungBinh'] < 75])\n",
    "    print(\"----------------------------------------------\")"
   ]
  },
  {
   "cell_type": "code",
   "execution_count": 13,
   "metadata": {},
   "outputs": [],
   "source": [
    "#Option 6: XÓa thông tin học viên\n",
    "def drop(index):\n",
    "    df_data = df_data.drop([index])\n",
    "    print(df_data)\n",
    "    print(\"-----------------------------------------------------------------\")    \n",
    "#   return choice_option"
   ]
  },
  {
   "cell_type": "code",
   "execution_count": 14,
   "metadata": {},
   "outputs": [],
   "source": [
    "def exit():\n",
    "    while True:\n",
    "        print(\"Chương trình kết thúc\")\n",
    "        print(\"----------------------------------------------\")\n",
    "        break"
   ]
  },
  {
   "cell_type": "code",
   "execution_count": 15,
   "metadata": {},
   "outputs": [],
   "source": [
    "def choice_option():\n",
    "    print(\"\"\"\\t  Mời bạn lựa chọn các chức năng sau: \n",
    "            1. Thêm thông tin học viên vào bộ nhớ.\n",
    "            2. Cập nhập thông tin học viên\n",
    "            3. Hiển thị danh sách tất cả học viên\n",
    "            4. Hiển thị danh sách học viên thi đỗ(Mean >= 57)\n",
    "            5. Hiển thị danh sách học viên thi trượt(Mean < 75)\n",
    "            6. Xóa thông tin sinh viên\n",
    "            7. Thoát chương trình.\\t\"\"\")\n",
    "    while True:\n",
    "        try:\n",
    "            option = (int(input(\"\\t\\tLựa chọn của bạn: \")))\n",
    "            if 1 <= option <= 7:\n",
    "                return option\n",
    "                continue\n",
    "            else:\n",
    "                print(\"Bạn chỉ được lưa chọn từ 1 đến 7!!\\n\")\n",
    "        except ValueError:\n",
    "            print(\"Con số bạn lựa chọn nằm ngoài phạm vi. Try again\\n\")"
   ]
  },
  {
   "cell_type": "code",
   "execution_count": 19,
   "metadata": {},
   "outputs": [
    {
     "name": "stdout",
     "output_type": "stream",
     "text": [
      "\t  Mời bạn lựa chọn các chức năng sau: \n",
      "            1. Thêm thông tin học viên vào bộ nhớ.\n",
      "            2. Cập nhập thông tin học viên\n",
      "            3. Hiển thị danh sách tất cả học viên\n",
      "            4. Hiển thị danh sách học viên thi đỗ(Mean >= 57)\n",
      "            5. Hiển thị danh sách học viên thi trượt(Mean < 75)\n",
      "            6. Xóa thông tin sinh viên\n",
      "            7. Thoát chương trình.\t\n",
      "\t\tLựa chọn của bạn: 2\n",
      "Mời bạn nhập vào vị trí index và chuỗi thay thế: x(hàng), y(cột) -->2,3\n",
      "Nhập vào chuỗi thay thếLâm Đồng\n",
      "Thông tin sau khi được cập nhập \n",
      "       A                 B    C          D    E    F\n",
      "0  1801   Nguyen Van Minh  Nam   Bac Lieu   50   85\n",
      "1  1802   Nguyen Van Binh  Nam     Ca Mau   78   95\n",
      "2  1803   Nguyen Van Cong  Nam   Lâm Đồng   80  100\n",
      "3  1804    Nguyen Thi Van  Nam   Bac Lieu   94   67\n",
      "4  1805  Truong Minh Vien  Nam  Soc Trang   95   85\n",
      "5  1806  Tran Thi Nhu Hoa   Nu     Ca Mau  100   84\n",
      "6  1807   Ngo Thi Minh An   Nu   Bac Lieu   67  100\n",
      "----------------------------------------------\n"
     ]
    }
   ],
   "source": [
    "if __name__ == '__main__':\n",
    "    option = choice_option()\n",
    "    if option == 1:\n",
    "        MS,HoTen,GioiTinh,Tinh,LT,TH =  map(str, input('Mời bạn nhập MS, HoTen, GioiTinh, Tinh, LT, TH: ').split(\",\"))\n",
    "        \n",
    "        add(MS,HoTen,GioiTinh,Tinh,LT,TH)\n",
    "\n",
    "    elif option == 2:\n",
    "        x, y = map(int, input(\"Mời bạn nhập vào vị trí index và chuỗi thay thế: x(hàng), y(cột) -->\").split(\",\"))\n",
    "        char = input(\"Nhập vào chuỗi thay thế\")\n",
    "        update(x,y,char)\n",
    "        print(\"Thông tin sau khi được cập nhập \\n\", df_data)\n",
    "        print(\"----------------------------------------------\")\n",
    "    elif option == 3:\n",
    "        show()\n",
    "        \n",
    "    elif option == 4:\n",
    "        df_data['TrungBinh'] = (df_data['E'] + df_data['F'])/2\n",
    "        good()\n",
    "        \n",
    "    elif option == 5:\n",
    "        df_data['TrungBinh'] = (df_data['E'] + df_data['F'])/2\n",
    "        faild()\n",
    "    elif option == 6:\n",
    "        index = int(input(\"Nhập vị trí index cần xóa: \"))\n",
    "        drop(index)\n",
    "        \n",
    "    elif option == 7:\n",
    "        exit()"
   ]
  },
  {
   "cell_type": "code",
   "execution_count": 20,
   "metadata": {},
   "outputs": [
    {
     "data": {
      "text/html": [
       "<div>\n",
       "<style scoped>\n",
       "    .dataframe tbody tr th:only-of-type {\n",
       "        vertical-align: middle;\n",
       "    }\n",
       "\n",
       "    .dataframe tbody tr th {\n",
       "        vertical-align: top;\n",
       "    }\n",
       "\n",
       "    .dataframe thead th {\n",
       "        text-align: right;\n",
       "    }\n",
       "</style>\n",
       "<table border=\"1\" class=\"dataframe\">\n",
       "  <thead>\n",
       "    <tr style=\"text-align: right;\">\n",
       "      <th></th>\n",
       "      <th>A</th>\n",
       "      <th>B</th>\n",
       "      <th>C</th>\n",
       "      <th>D</th>\n",
       "      <th>E</th>\n",
       "      <th>F</th>\n",
       "    </tr>\n",
       "  </thead>\n",
       "  <tbody>\n",
       "    <tr>\n",
       "      <th>0</th>\n",
       "      <td>1801</td>\n",
       "      <td>Nguyen Van Minh</td>\n",
       "      <td>Nam</td>\n",
       "      <td>Bac Lieu</td>\n",
       "      <td>50</td>\n",
       "      <td>85</td>\n",
       "    </tr>\n",
       "    <tr>\n",
       "      <th>1</th>\n",
       "      <td>1802</td>\n",
       "      <td>Nguyen Van Binh</td>\n",
       "      <td>Nam</td>\n",
       "      <td>Ca Mau</td>\n",
       "      <td>78</td>\n",
       "      <td>95</td>\n",
       "    </tr>\n",
       "    <tr>\n",
       "      <th>2</th>\n",
       "      <td>1803</td>\n",
       "      <td>Nguyen Van Cong</td>\n",
       "      <td>Nam</td>\n",
       "      <td>Lâm Đồng</td>\n",
       "      <td>80</td>\n",
       "      <td>100</td>\n",
       "    </tr>\n",
       "    <tr>\n",
       "      <th>3</th>\n",
       "      <td>1804</td>\n",
       "      <td>Nguyen Thi Van</td>\n",
       "      <td>Nam</td>\n",
       "      <td>Bac Lieu</td>\n",
       "      <td>94</td>\n",
       "      <td>67</td>\n",
       "    </tr>\n",
       "    <tr>\n",
       "      <th>4</th>\n",
       "      <td>1805</td>\n",
       "      <td>Truong Minh Vien</td>\n",
       "      <td>Nam</td>\n",
       "      <td>Soc Trang</td>\n",
       "      <td>95</td>\n",
       "      <td>85</td>\n",
       "    </tr>\n",
       "    <tr>\n",
       "      <th>5</th>\n",
       "      <td>1806</td>\n",
       "      <td>Tran Thi Nhu Hoa</td>\n",
       "      <td>Nu</td>\n",
       "      <td>Ca Mau</td>\n",
       "      <td>100</td>\n",
       "      <td>84</td>\n",
       "    </tr>\n",
       "    <tr>\n",
       "      <th>6</th>\n",
       "      <td>1807</td>\n",
       "      <td>Ngo Thi Minh An</td>\n",
       "      <td>Nu</td>\n",
       "      <td>Bac Lieu</td>\n",
       "      <td>67</td>\n",
       "      <td>100</td>\n",
       "    </tr>\n",
       "  </tbody>\n",
       "</table>\n",
       "</div>"
      ],
      "text/plain": [
       "      A                 B    C          D    E    F\n",
       "0  1801   Nguyen Van Minh  Nam   Bac Lieu   50   85\n",
       "1  1802   Nguyen Van Binh  Nam     Ca Mau   78   95\n",
       "2  1803   Nguyen Van Cong  Nam   Lâm Đồng   80  100\n",
       "3  1804    Nguyen Thi Van  Nam   Bac Lieu   94   67\n",
       "4  1805  Truong Minh Vien  Nam  Soc Trang   95   85\n",
       "5  1806  Tran Thi Nhu Hoa   Nu     Ca Mau  100   84\n",
       "6  1807   Ngo Thi Minh An   Nu   Bac Lieu   67  100"
      ]
     },
     "execution_count": 20,
     "metadata": {},
     "output_type": "execute_result"
    }
   ],
   "source": [
    "df_data"
   ]
  },
  {
   "cell_type": "code",
   "execution_count": null,
   "metadata": {},
   "outputs": [],
   "source": []
  }
 ],
 "metadata": {
  "kernelspec": {
   "display_name": "Python 3",
   "language": "python",
   "name": "python3"
  },
  "language_info": {
   "codemirror_mode": {
    "name": "ipython",
    "version": 3
   },
   "file_extension": ".py",
   "mimetype": "text/x-python",
   "name": "python",
   "nbconvert_exporter": "python",
   "pygments_lexer": "ipython3",
   "version": "3.7.6"
  }
 },
 "nbformat": 4,
 "nbformat_minor": 4
}
